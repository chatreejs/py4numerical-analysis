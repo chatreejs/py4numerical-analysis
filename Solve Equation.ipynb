{
 "cells": [
  {
   "cell_type": "markdown",
   "metadata": {
    "colab_type": "text",
    "id": "7AXWrZ8BmrLA"
   },
   "source": [
    "# Solve equation"
   ]
  },
  {
   "cell_type": "markdown",
   "metadata": {},
   "source": [
    "## 1. Bisection Method"
   ]
  },
  {
   "cell_type": "code",
   "execution_count": 1,
   "metadata": {
    "colab": {},
    "colab_type": "code",
    "id": "JxNMbzKGlLzR",
    "pycharm": {
     "is_executing": false
    }
   },
   "outputs": [],
   "source": [
    "# Import modules\n",
    "import traceback\n",
    "import math\n",
    "import pandas as pd\n",
    "import numpy as np"
   ]
  },
  {
   "cell_type": "markdown",
   "metadata": {},
   "source": [
    "### Theorem 1.2\n",
    "let $f$ be a continuous function on $[a, b]$, satisfying $f(a)f(b) < 0$. Then $f$ has a root between $a$ and $b$, that is, there exists a number $r$ satisfying $a < r < b$ and $f(r) = 0$"
   ]
  },
  {
   "cell_type": "code",
   "execution_count": 2,
   "metadata": {},
   "outputs": [],
   "source": [
    "def bisect(f, a, b, tol):\n",
    "    \"\"\"\n",
    "    Computes approximate solution of f(x)=0\n",
    "    \n",
    "    Args:\n",
    "        f (function prototype) : function handle \n",
    "        a (real number) : left bound of the interval\n",
    "        b (real number) : right bound of the interval\n",
    "        tol (real number) : tolerance\n",
    "        \n",
    "    Returns:\n",
    "        Approximate solution x\n",
    "        \n",
    "    Raises:\n",
    "        ValueError:\n",
    "            - a * b must be smaller than zero\n",
    "            - a > b will be considered to be wrong\n",
    "    \"\"\"\n",
    "    try:\n",
    "        if a > b :\n",
    "            raise ValueError('a must be <= b')\n",
    "        \n",
    "        fa = f(a)\n",
    "        fb = f(b)\n",
    "        \n",
    "        if np.sign(fa) * np.sign(fb) >= 0 :\n",
    "            raise ValueError('It must be verified that f(a) * f(b) < 0')\n",
    "            \n",
    "        while (b - a) / 2 > tol :\n",
    "            # Find the intermediate point  \n",
    "            c = (a + b) / 2\n",
    "            fc = f(c)\n",
    "            if fc == 0 :\n",
    "                return c\n",
    "            elif fa * fc < 0 :\n",
    "                b = c\n",
    "                fb = fc\n",
    "            else :\n",
    "                a = c\n",
    "                fa = fc\n",
    "                \n",
    "        return (a + b) / 2\n",
    "            \n",
    "    except ValueError as e :\n",
    "        print('ValueError Exception : ', e)\n",
    "        traceback.print_exception()"
   ]
  },
  {
   "cell_type": "markdown",
   "metadata": {},
   "source": [
    "### Example\n",
    "find a root of $f(x) = x^3 + x - 1$ on the interval $[0 , 1]$"
   ]
  },
  {
   "cell_type": "code",
   "execution_count": 3,
   "metadata": {},
   "outputs": [
    {
     "name": "stdout",
     "output_type": "stream",
     "text": [
      "0.681629 ~ 0.682629\n"
     ]
    }
   ],
   "source": [
    "f = lambda x : math.pow(x, 3) + math.pow(x, 1) - 1\n",
    "tolerance = 0.0005\n",
    "xc = bisect(f, 0, 1, tolerance)\n",
    "print('%f ~ %f' %(xc - tolerance, xc + tolerance))"
   ]
  },
  {
   "cell_type": "markdown",
   "metadata": {},
   "source": [
    "## 2. Newton-Rhapson Method\n",
    "* Problem with bisection method\n",
    "    * Need to find a bracket\n",
    "    * Slow convergence\n",
    "* Newton-Rhapson method: one of the most widely used methods to locate roots\n",
    "\n",
    "$x_0 =$ initial guess\n",
    "\n",
    "$x_{i+1} = x_i - \\frac{f(x_i)}{f'(x_i)}$ for $i = 0, 1, 2, ...$"
   ]
  },
  {
   "cell_type": "code",
   "execution_count": 4,
   "metadata": {
    "colab": {},
    "colab_type": "code",
    "id": "lHqez2GDlLzd"
   },
   "outputs": [],
   "source": [
    "def newton_method(f, df, x0, k = 500, tol = 1e-6) :\n",
    "    \"\"\"\n",
    "    Use Newton's method to find the root of the function\n",
    "    \n",
    "    Args:\n",
    "        f (function prototype) : function handle\n",
    "        df (function prototype) : derivative function handle\n",
    "        x0 (real number) : starting guess \n",
    "        k (integer) : number of iteration steps (default : 500)\n",
    "        tol (real number) : tolerance (default : 1e-6)\n",
    "        \n",
    "    Return:\n",
    "        Approximate solution xc\n",
    "        \n",
    "    Raises:\n",
    "        ValueError :\n",
    "            - f or df is None\n",
    "            - k is smaller than 0\n",
    "    \"\"\"\n",
    "    try:\n",
    "        if f is None or df is None :\n",
    "            raise ValueError('Function handle f or df is Null')\n",
    "        \n",
    "        if k <= 0 :\n",
    "            raise ValueError('Iteration k must be larger than 0')\n",
    "        \n",
    "        xc = x0\n",
    "        i = 0\n",
    "        for _ in range(k) :\n",
    "            xt = xc - f(xc) / df(xc)\n",
    "            if i == 0:\n",
    "                    #do nothing\n",
    "                    xi.append(x0)\n",
    "                    ec = abs(x0 - 3)\n",
    "                    ei.append(ec)\n",
    "                    ratio.append(np.nan)\n",
    "            if tol > 0 and abs(xt - xc) / abs(xc) < tol :\n",
    "                return xt\n",
    "            else :\n",
    "                xc = xt\n",
    "                xi.append(xc)\n",
    "                ec = abs(xc - 3)\n",
    "                ei.append(ec)\n",
    "                if i != 0:\n",
    "                    previous = ei[i - 1]\n",
    "                    ratio.append(ec / math.pow(previous, 2))\n",
    "                i += 1\n",
    "        return xc\n",
    "    except ValueError as e :\n",
    "        print('ValueError Exception : ', e)\n",
    "        traceback.print_exception()"
   ]
  },
  {
   "cell_type": "markdown",
   "metadata": {},
   "source": [
    "### Example\n",
    "Find the Newton's Method formula for the equation $x^3 + x - 1 = 0$."
   ]
  },
  {
   "cell_type": "code",
   "execution_count": 5,
   "metadata": {
    "colab": {},
    "colab_type": "code",
    "id": "pi2shPrXlLzh"
   },
   "outputs": [
    {
     "name": "stdout",
     "output_type": "stream",
     "text": [
      "x = 0.68232780\n"
     ]
    }
   ],
   "source": [
    "xi = []\n",
    "ei = []\n",
    "ratio = []\n",
    "\n",
    "f = lambda x : math.pow(x, 3) + x - 1\n",
    "df = lambda x : 3 * math.pow(x, 2) + 1\n",
    "xc = newton_method(f, df, -0.7, 25, 1e-8)\n",
    "data = [xi, ei, ratio]\n",
    "print ('x = %.8f' % xc)"
   ]
  },
  {
   "cell_type": "code",
   "execution_count": 6,
   "metadata": {
    "colab": {
     "base_uri": "https://localhost:8080/",
     "height": 855
    },
    "colab_type": "code",
    "id": "d_p_IB63lLzk",
    "outputId": "ac2889c1-89c3-4e01-b01c-7ab88590ce28"
   },
   "outputs": [
    {
     "data": {
      "text/html": [
       "<div>\n",
       "<style scoped>\n",
       "    .dataframe tbody tr th:only-of-type {\n",
       "        vertical-align: middle;\n",
       "    }\n",
       "\n",
       "    .dataframe tbody tr th {\n",
       "        vertical-align: top;\n",
       "    }\n",
       "\n",
       "    .dataframe thead th {\n",
       "        text-align: right;\n",
       "    }\n",
       "</style>\n",
       "<table border=\"1\" class=\"dataframe\">\n",
       "  <thead>\n",
       "    <tr style=\"text-align: right;\">\n",
       "      <th></th>\n",
       "      <th>Xi</th>\n",
       "      <th>Ei</th>\n",
       "      <th>Ratio</th>\n",
       "    </tr>\n",
       "  </thead>\n",
       "  <tbody>\n",
       "    <tr>\n",
       "      <th>0</th>\n",
       "      <td>-0.70000000</td>\n",
       "      <td>3.70000000</td>\n",
       "      <td>nan</td>\n",
       "    </tr>\n",
       "    <tr>\n",
       "      <th>1</th>\n",
       "      <td>0.12712551</td>\n",
       "      <td>2.87287449</td>\n",
       "      <td>0.14918348</td>\n",
       "    </tr>\n",
       "    <tr>\n",
       "      <th>2</th>\n",
       "      <td>0.95767812</td>\n",
       "      <td>2.04232188</td>\n",
       "      <td>0.27445296</td>\n",
       "    </tr>\n",
       "    <tr>\n",
       "      <th>3</th>\n",
       "      <td>0.73482779</td>\n",
       "      <td>2.26517221</td>\n",
       "      <td>0.55511018</td>\n",
       "    </tr>\n",
       "    <tr>\n",
       "      <th>4</th>\n",
       "      <td>0.68459177</td>\n",
       "      <td>2.31540823</td>\n",
       "      <td>0.45169860</td>\n",
       "    </tr>\n",
       "    <tr>\n",
       "      <th>5</th>\n",
       "      <td>0.68233217</td>\n",
       "      <td>2.31766783</td>\n",
       "      <td>0.43231158</td>\n",
       "    </tr>\n",
       "    <tr>\n",
       "      <th>6</th>\n",
       "      <td>0.68232780</td>\n",
       "      <td>2.31767220</td>\n",
       "      <td>nan</td>\n",
       "    </tr>\n",
       "  </tbody>\n",
       "</table>\n",
       "</div>"
      ],
      "text/plain": [
       "           Xi         Ei      Ratio\n",
       "0 -0.70000000 3.70000000        nan\n",
       "1  0.12712551 2.87287449 0.14918348\n",
       "2  0.95767812 2.04232188 0.27445296\n",
       "3  0.73482779 2.26517221 0.55511018\n",
       "4  0.68459177 2.31540823 0.45169860\n",
       "5  0.68233217 2.31766783 0.43231158\n",
       "6  0.68232780 2.31767220        nan"
      ]
     },
     "execution_count": 6,
     "metadata": {},
     "output_type": "execute_result"
    }
   ],
   "source": [
    "pd.options.display.float_format = '{:.8f}'.format\n",
    "df = pd.DataFrame(data)\n",
    "df_t = df.transpose()\n",
    "df_t.columns = ['Xi','Ei','Ratio']\n",
    "df_t"
   ]
  },
  {
   "cell_type": "markdown",
   "metadata": {},
   "source": [
    "## 3. Secant Method\n",
    "$x_0,x_1 =$ initial guesses\n",
    "\n",
    "$x_{i+1} = x_i - \\frac{f(x_i)(x_i - x_{i-1})}{f(x_i) - f(x_{i-1})}$ for $i = 1, 2, 3, ...$"
   ]
  },
  {
   "cell_type": "code",
   "execution_count": 7,
   "metadata": {},
   "outputs": [],
   "source": [
    "def secant_method(f, x0, x1, k = 500) :\n",
    "    \"\"\"\n",
    "    Use Secant's method to find the root of the formula\n",
    "    \n",
    "    Args:\n",
    "        f (function prototype) : function handle\n",
    "        x0 (real number) : initial guess\n",
    "        x1 (real number) : initial guess \n",
    "        k (integer) : number of iteration steps (default : 500)\n",
    "        \n",
    "    Return:\n",
    "        Approximate solution xc\n",
    "        \n",
    "    Raises:\n",
    "    \n",
    "    \"\"\"\n",
    "    x = np.zeros(k)\n",
    "    x[0] = x0\n",
    "    x[1] = x1\n",
    "    xi.append(x0)\n",
    "    xi.append(x1)\n",
    "    for i in range(1,k - 1):\n",
    "        if f(x[i]) - f(x[i - 1]) == 0 :\n",
    "            return x[i]\n",
    "        x[i + 1] = x[i] - f(x[i]) * (x[i] - x[i - 1])  / (f(x[i]) - f(x[i - 1]))\n",
    "        xi.append(x[i])\n",
    "    return x[k - 1]"
   ]
  },
  {
   "cell_type": "markdown",
   "metadata": {},
   "source": [
    "### Example\n",
    "Apply the Secant Method with starting guesses $x_0 = 0,x_1 = 1$ to find the root of $f(x)=x^3 + x + 1$"
   ]
  },
  {
   "cell_type": "code",
   "execution_count": 8,
   "metadata": {},
   "outputs": [
    {
     "name": "stdout",
     "output_type": "stream",
     "text": [
      "x = 0.68232780\n"
     ]
    }
   ],
   "source": [
    "xi = []\n",
    "f = lambda x : math.pow(x, 3) + x - 1\n",
    "xc = secant_method(f, 0, 1, 100)\n",
    "data = [xi]\n",
    "print ('x = %.8f' % xc)"
   ]
  },
  {
   "cell_type": "code",
   "execution_count": 9,
   "metadata": {},
   "outputs": [
    {
     "data": {
      "text/html": [
       "<div>\n",
       "<style scoped>\n",
       "    .dataframe tbody tr th:only-of-type {\n",
       "        vertical-align: middle;\n",
       "    }\n",
       "\n",
       "    .dataframe tbody tr th {\n",
       "        vertical-align: top;\n",
       "    }\n",
       "\n",
       "    .dataframe thead th {\n",
       "        text-align: right;\n",
       "    }\n",
       "</style>\n",
       "<table border=\"1\" class=\"dataframe\">\n",
       "  <thead>\n",
       "    <tr style=\"text-align: right;\">\n",
       "      <th></th>\n",
       "      <th>Xi</th>\n",
       "    </tr>\n",
       "  </thead>\n",
       "  <tbody>\n",
       "    <tr>\n",
       "      <th>0</th>\n",
       "      <td>0.00000000000000</td>\n",
       "    </tr>\n",
       "    <tr>\n",
       "      <th>1</th>\n",
       "      <td>1.00000000000000</td>\n",
       "    </tr>\n",
       "    <tr>\n",
       "      <th>2</th>\n",
       "      <td>1.00000000000000</td>\n",
       "    </tr>\n",
       "    <tr>\n",
       "      <th>3</th>\n",
       "      <td>0.50000000000000</td>\n",
       "    </tr>\n",
       "    <tr>\n",
       "      <th>4</th>\n",
       "      <td>0.63636363636364</td>\n",
       "    </tr>\n",
       "    <tr>\n",
       "      <th>5</th>\n",
       "      <td>0.69005235602094</td>\n",
       "    </tr>\n",
       "    <tr>\n",
       "      <th>6</th>\n",
       "      <td>0.68202041964819</td>\n",
       "    </tr>\n",
       "    <tr>\n",
       "      <th>7</th>\n",
       "      <td>0.68232578140989</td>\n",
       "    </tr>\n",
       "    <tr>\n",
       "      <th>8</th>\n",
       "      <td>0.68232780435903</td>\n",
       "    </tr>\n",
       "    <tr>\n",
       "      <th>9</th>\n",
       "      <td>0.68232780382802</td>\n",
       "    </tr>\n",
       "    <tr>\n",
       "      <th>10</th>\n",
       "      <td>0.68232780382802</td>\n",
       "    </tr>\n",
       "  </tbody>\n",
       "</table>\n",
       "</div>"
      ],
      "text/plain": [
       "                 Xi\n",
       "0  0.00000000000000\n",
       "1  1.00000000000000\n",
       "2  1.00000000000000\n",
       "3  0.50000000000000\n",
       "4  0.63636363636364\n",
       "5  0.69005235602094\n",
       "6  0.68202041964819\n",
       "7  0.68232578140989\n",
       "8  0.68232780435903\n",
       "9  0.68232780382802\n",
       "10 0.68232780382802"
      ]
     },
     "execution_count": 9,
     "metadata": {},
     "output_type": "execute_result"
    }
   ],
   "source": [
    "pd.options.display.float_format = '{:.14f}'.format\n",
    "df = pd.DataFrame(data)\n",
    "df_t = df.transpose()\n",
    "df_t.columns = ['Xi']\n",
    "df_t"
   ]
  },
  {
   "cell_type": "markdown",
   "metadata": {},
   "source": [
    "## 4. False position Method"
   ]
  },
  {
   "cell_type": "code",
   "execution_count": 10,
   "metadata": {},
   "outputs": [],
   "source": [
    "def false_position_method(f, a, b, k) :\n",
    "    \"\"\"\n",
    "    Use false position method to find the root of the formula f\n",
    "    \n",
    "    Args:\n",
    "        f (function prototype) : function handle\n",
    "        a (real number) : the lowerbound of the bracket of initial guess\n",
    "        b (real number) : the upperbound of the bracket of initial guess\n",
    "        k (integer) : number of iteration steps (default : 500)\n",
    "        \n",
    "    Return:\n",
    "        Approximate solution xc\n",
    "        \n",
    "    Raises:\n",
    "        ValueError:\n",
    "            - f(a) * f(b) must be smaller than 0 (exclude zero)\n",
    "        \n",
    "    \"\"\"\n",
    "    if f(a) * f(b) >= 0 :\n",
    "        raise ValueError('f(a) * f(b) must be < 0')\n",
    "    for _ in range(k) :\n",
    "        c = (b * f(a) - a * f(b)) / (f(a) - f(b))\n",
    "        if f(c) == 0 :\n",
    "            return c\n",
    "        if f(a) * f(c) < 0 :\n",
    "            b = c\n",
    "        else :\n",
    "            a = c\n",
    "    return c"
   ]
  },
  {
   "cell_type": "markdown",
   "metadata": {},
   "source": [
    "### Example\n",
    "Apply the Method of False Position on interval $[-1,1]$ to find the root $r = 0$ of $f(x) = x^3 - 2x^2 + \\frac{3}{2}x$"
   ]
  },
  {
   "cell_type": "code",
   "execution_count": 11,
   "metadata": {},
   "outputs": [
    {
     "data": {
      "text/plain": [
       "7.528350053591502e-18"
      ]
     },
     "execution_count": 11,
     "metadata": {},
     "output_type": "execute_result"
    }
   ],
   "source": [
    "f = lambda x : pow(x, 3) - 2 * pow(x, 2) + 1.5 * x\n",
    "false_position_method(f, -1, 1, 100)"
   ]
  },
  {
   "cell_type": "code",
   "execution_count": null,
   "metadata": {},
   "outputs": [],
   "source": []
  }
 ],
 "metadata": {
  "colab": {
   "name": "Untitled.ipynb",
   "provenance": [],
   "version": "0.3.2"
  },
  "kernelspec": {
   "display_name": "Python 3",
   "language": "python",
   "name": "python3"
  },
  "language_info": {
   "codemirror_mode": {
    "name": "ipython",
    "version": 3
   },
   "file_extension": ".py",
   "mimetype": "text/x-python",
   "name": "python",
   "nbconvert_exporter": "python",
   "pygments_lexer": "ipython3",
   "version": "3.7.1"
  }
 },
 "nbformat": 4,
 "nbformat_minor": 1
}